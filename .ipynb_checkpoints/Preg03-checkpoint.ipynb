{
 "cells": [
  {
   "cell_type": "code",
   "execution_count": 3,
   "id": "783e9577",
   "metadata": {},
   "outputs": [
    {
     "name": "stdout",
     "output_type": "stream",
     "text": [
      "Ingrese el número de horas estacionado: 2\n",
      "El importe a pagar es: 6 S/.\n"
     ]
    }
   ],
   "source": [
    "# Definir el costo por las primeras 4 horas y el costo por cada hora adicional\n",
    "costo_primeras_horas = 6\n",
    "costo_hora_adicional = 2\n",
    "\n",
    "# Pedir al usuario que ingrese el número de horas estacionado (valor entero)\n",
    "horas_estacionado = int(input(\"Ingrese el número de horas estacionado: \"))\n",
    "\n",
    "# Calcular el importe a pagar\n",
    "if horas_estacionado <= 4:\n",
    "    importe_pagar = costo_primeras_horas\n",
    "else:\n",
    "    importe_pagar = costo_primeras_horas + (horas_estacionado - 4) * costo_hora_adicional\n",
    "\n",
    "# Imprimir el importe a pagar\n",
    "print(\"El importe a pagar es:\", importe_pagar, \"S/.\")"
   ]
  },
  {
   "cell_type": "code",
   "execution_count": null,
   "id": "a4a37d09",
   "metadata": {},
   "outputs": [],
   "source": []
  }
 ],
 "metadata": {
  "kernelspec": {
   "display_name": "Python 3 (ipykernel)",
   "language": "python",
   "name": "python3"
  },
  "language_info": {
   "codemirror_mode": {
    "name": "ipython",
    "version": 3
   },
   "file_extension": ".py",
   "mimetype": "text/x-python",
   "name": "python",
   "nbconvert_exporter": "python",
   "pygments_lexer": "ipython3",
   "version": "3.9.12"
  }
 },
 "nbformat": 4,
 "nbformat_minor": 5
}
