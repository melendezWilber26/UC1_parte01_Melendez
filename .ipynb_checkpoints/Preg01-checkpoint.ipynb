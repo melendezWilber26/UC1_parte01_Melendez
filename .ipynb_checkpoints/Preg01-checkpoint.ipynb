{
 "cells": [
  {
   "cell_type": "code",
   "execution_count": 2,
   "id": "351d0478",
   "metadata": {},
   "outputs": [
    {
     "name": "stdout",
     "output_type": "stream",
     "text": [
      "Antes del intercambio:\n",
      "A = 8\n",
      "B = 9\n",
      "Después del intercambio:\n",
      "A = 9\n",
      "B = 8\n"
     ]
    }
   ],
   "source": [
    "# Definir los valores iniciales de A y B\n",
    "A = 8\n",
    "B = 9\n",
    "\n",
    "# Imprimir los valores iniciales de A y B\n",
    "print(\"Antes del intercambio:\")\n",
    "print(\"A =\", A)\n",
    "print(\"B =\", B)\n",
    "\n",
    "# Intercambiar los valores de A y B utilizando una variable auxiliar\n",
    "temp = A\n",
    "A = B\n",
    "B = temp\n",
    "\n",
    "# Imprimir los valores intercambiados de A y B\n",
    "print(\"Después del intercambio:\")\n",
    "print(\"A =\", A)\n",
    "print(\"B =\", B)"
   ]
  },
  {
   "cell_type": "code",
   "execution_count": null,
   "id": "2f02a0ae",
   "metadata": {},
   "outputs": [],
   "source": []
  }
 ],
 "metadata": {
  "kernelspec": {
   "display_name": "Python 3 (ipykernel)",
   "language": "python",
   "name": "python3"
  },
  "language_info": {
   "codemirror_mode": {
    "name": "ipython",
    "version": 3
   },
   "file_extension": ".py",
   "mimetype": "text/x-python",
   "name": "python",
   "nbconvert_exporter": "python",
   "pygments_lexer": "ipython3",
   "version": "3.9.12"
  }
 },
 "nbformat": 4,
 "nbformat_minor": 5
}
