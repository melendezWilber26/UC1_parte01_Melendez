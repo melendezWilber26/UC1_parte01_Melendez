{
 "cells": [
  {
   "cell_type": "code",
   "execution_count": 2,
   "id": "12d268ae",
   "metadata": {},
   "outputs": [
    {
     "name": "stdout",
     "output_type": "stream",
     "text": [
      "Las ganancias de Pablico se encuentran en el rango (2000,5000]\n",
      "El monto del donativo es: 500.0 soles\n"
     ]
    }
   ],
   "source": [
    "# Definir el rango y el porcentaje correspondiente\n",
    "ganancias=5000\n",
    "if ganancias <= 1000:\n",
    "    rango = \"[0,1000]\"\n",
    "    porcentaje = 5\n",
    "elif ganancias <= 1500:\n",
    "    rango = \"(1000,1500]\"\n",
    "    porcentaje = 7\n",
    "elif ganancias <= 2000:\n",
    "    rango = \"(1500,2000]\"\n",
    "    porcentaje = 8\n",
    "elif ganancias <= 5000:\n",
    "    rango = \"(2000,5000]\"\n",
    "    porcentaje = 10\n",
    "else:\n",
    "    rango = \"(5000,Más]\"\n",
    "    porcentaje = 15\n",
    "\n",
    "# Calcular el monto del donativo\n",
    "monto_donativo = ganancias * porcentaje / 100\n",
    "\n",
    "# Imprimir el resultado\n",
    "print(\"Las ganancias de Pablico se encuentran en el rango\", rango)\n",
    "print(\"El monto del donativo es:\", monto_donativo, \"soles\")\n"
   ]
  },
  {
   "cell_type": "code",
   "execution_count": null,
   "id": "253cd111",
   "metadata": {},
   "outputs": [],
   "source": []
  }
 ],
 "metadata": {
  "kernelspec": {
   "display_name": "Python 3 (ipykernel)",
   "language": "python",
   "name": "python3"
  },
  "language_info": {
   "codemirror_mode": {
    "name": "ipython",
    "version": 3
   },
   "file_extension": ".py",
   "mimetype": "text/x-python",
   "name": "python",
   "nbconvert_exporter": "python",
   "pygments_lexer": "ipython3",
   "version": "3.9.12"
  }
 },
 "nbformat": 4,
 "nbformat_minor": 5
}
